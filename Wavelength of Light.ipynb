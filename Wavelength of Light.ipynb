{
 "cells": [
  {
   "cell_type": "code",
   "execution_count": 5,
   "metadata": {},
   "outputs": [
    {
     "name": "stdout",
     "output_type": "stream",
     "text": [
      "5.020567092253673e-07\n",
      "Wavelength = 5.020567092253673e-07 +/- 3.066143103664586e-08\n"
     ]
    }
   ],
   "source": [
    "import numpy as np\n",
    "import math\n",
    "\n",
    "h1 = 0.0365\n",
    "h2 = 0.0895\n",
    "h3 = 0.037\n",
    "h4 = 0.096\n",
    "err_h = 0.005\n",
    "\n",
    "d = 0.000002\n",
    "D = 0.1025\n",
    "err_D = 0.005\n",
    "\n",
    "#theta values\n",
    "atan1 = math.degrees(math.atan(h1 / D))\n",
    "atan2 = math.degrees(math.atan(h2 / D))\n",
    "atan3 = math.degrees(math.atan(h3 / D))\n",
    "atan4 = math.degrees(math.atan(h4 / D))\n",
    "\n",
    "theta_avg1 = (atan1 + atan3) / 2\n",
    "theta_avg2 = (atan2 + atan4) / 2\n",
    "                     \n",
    "#wavelengths\n",
    "lambda1 = (d * math.sin(atan1)) / 1\n",
    "lambda2 = (d * math.sin(atan2)) / 2\n",
    "lambda3 = (d * math.sin(atan3)) / 1\n",
    "lambda4 = (d * math.sin(atan4)) / 2\n",
    "\n",
    "avg = (lambda1 + lambda2 + lambda3 + lambda4) / 4\n",
    "print(avg)\n",
    " \n",
    "#errors\n",
    "h1avg = (h1 + h3) / 2\n",
    "h2avg = (h2 + h4) / 2\n",
    "err_theta1 = math.atan((h1avg + err_h) / (D - err_D)) - math.atan(h1avg / D)\n",
    "err_theta2 = math.atan((h2avg + err_h) / (D - err_D)) - math.atan(h2avg / D)\n",
    "\n",
    "err_lambda1 = (d / 1)*(math.sin(theta_avg1 + err_theta1)) - (d / 1)*(math.sin(theta_avg1))\n",
    "err_lambda2 = (d / 2)*(math.sin(theta_avg2 + err_theta2)) - (d / 2)*(math.sin(theta_avg2))\n",
    "\n",
    "avg_err_lambda = (err_lambda1 + err_lambda2) / 2\n",
    "\n",
    "wvlngth = avg \n",
    "\n",
    "print('Wavelength =', wvlngth, '+/-', avg_err_lambda)"
   ]
  },
  {
   "cell_type": "code",
   "execution_count": null,
   "metadata": {},
   "outputs": [],
   "source": []
  }
 ],
 "metadata": {
  "kernelspec": {
   "display_name": "Python 3",
   "language": "python",
   "name": "python3"
  },
  "language_info": {
   "codemirror_mode": {
    "name": "ipython",
    "version": 3
   },
   "file_extension": ".py",
   "mimetype": "text/x-python",
   "name": "python",
   "nbconvert_exporter": "python",
   "pygments_lexer": "ipython3",
   "version": "3.8.5"
  }
 },
 "nbformat": 4,
 "nbformat_minor": 4
}
